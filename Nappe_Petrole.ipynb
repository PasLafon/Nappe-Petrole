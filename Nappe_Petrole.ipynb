{
 "cells": [
  {
   "cell_type": "markdown",
   "metadata": {},
   "source": [
    "<a href=\"http://www.utt.fr\"><img src=\"logo-UTT.svg\" width=\"200\" align=\"left\"></a>\n",
    "### Formation d'Ingénieur en Génie Mécanique\n",
    "#### Mécanique des fluides (code UE MQ07 niveau L3)\n",
    "---\n",
    "\n",
    "* Rapide tutoriel sur les [notebook et JupyterLab](https://github.com/PasLafon/UTT-Teaching/blob/master/Tuto-Perso-Jupyter/Tuto-Jupyter.md)\n",
    "* Rapide tutoriel pour [télécharger ce notebook](https://github.com/PasLafon/UTT-Teaching/blob/master/Tuto-Perso-Jupyter/Tuto-nbviewer-GitHub.md) et le rendre actif (l'éxecuter, le modifier, ..) \n",
    "\n",
    "---"
   ]
  },
  {
   "cell_type": "markdown",
   "metadata": {},
   "source": [
    "## Nappe de Pétrole"
   ]
  },
  {
   "cell_type": "markdown",
   "metadata": {},
   "source": [
    "Une nappe de pétrole à la surface de la mer de densité $\\rho_s$ est contenue par une barrière\n",
    "flottante mince, circulaire de rayon $R$. La profondeur de la nappe est $d$. La densité du\n",
    "pétrole est $\\rho_p$.\n",
    "* a) Quelle est la hauteur $h$ du pétrole au-dessus de l’eau ?\n",
    "* b) La différence de pression de part et d’autre de la barrière génère une tension dans la barrière. En écrivant l’équilibre d’un petit élément de surface cylindrique soumis à une pression interne $P$, établir la relation entre $P$ et la tension dans la surface. Cette relation correspond à la Loi de Pascal pour un cylindre. Donner alors l’expression de la force de tension à laquelle est soumise la barrière et tracer son profil, quelle est sa valeur maximale ?\n",
    "\n",
    "Rappel : une tension est une force par unité de longueur.\n",
    "\n",
    "![Nappe de pétrole](NP_figure.png)\n",
    "\n",
    "AN : $\\rho_p$ = 0.8 g cm$^{-3}$, $\\rho_s$ = 1.03 g cm$^{-3}$, $R$ = 50 m, $d$ = 25 cm"
   ]
  },
  {
   "cell_type": "markdown",
   "metadata": {},
   "source": [
    "### a) Hauteur $h$ au dessus de l'eau :"
   ]
  },
  {
   "cell_type": "markdown",
   "metadata": {},
   "source": [
    "* La nappe de pétrole flotte au dessus de l'eau (la masse volumique du pétrole étant inférieure à celle) elle en équilibre : la poussée d'Archimède s'exerçant sur la nappe compense le poids de la nappe de pétrole. En projection sur un axe $\\vec{z}$ vertical dirigé vers le haut, donc avec $\\vec{g}=-g\\vec{z}$ on a :\n",
    "$$\\underbrace{\\rho_s g \\pi R^2(d-h)}_{\\text{Poussée d'archimède}} - \\underbrace{\\rho_p g \\pi R^2d}_{\\text{Poids de la nappe}} = 0 $$\n",
    "La seule inconnue est $h$ et on tire immédiatement :\n",
    "$$h = \\left(\\frac{\\rho_s - \\rho_p}{\\rho_s}\\right)d$$\n",
    "\n",
    "\n",
    "* On peut faire une autre analyse de cet équilibre en l'écrivant avec les résultantes des forces de pression s'exerçant sur la nappe de pétrole au lieu d'utiliser la poussée d'Archimède (ce qui revient au même puisque l'expression de la poussée d'Archimède s'établie avec ce raisonnement).\n",
    "    * Résultante des forces de pression de l'air sur le pétrole à la surface libre :\n",
    "    $$\\vec{\\mathcal{R}}_{P_{\\text{Air}\\to\\text{Pétrole}}} = -\\pi R^2 P_{atm}\\vec{z}$$\n",
    "    * Résultante des forces de pression de l'eau sur le pétrole à l'interface eau/pétrole pour $z=-(d-h)$ :\n",
    "    $$\\vec{\\mathcal{R}}_{P_{\\text{Eau}\\to\\text{Pétrole}}} = \\pi R^2 \\left(P_{atm}+\\rho_s g(h-d) \\right)\\vec{z}$$\n",
    "    * Les résultantes des forces de pression (celle de l'air et de l'eau sur la barrière) s'exerçant sur les surfaces latérales de la nappe (via la barrière) sont nulles car la nappe est cylindrique.\n",
    "    * Donc l'équilibre s'écrit en projection sur $\\vec{z}$ :\n",
    "    $$ -\\pi R^2 P_{atm} + \\pi R^2 \\left(P_{atm}+\\rho_s g(h-d) \\right) + \\underbrace{\\rho_p g \\pi R^2d}_{\\text{Poids de la nappe}} = 0 $$\n",
    "    Soit :\n",
    "    $$ \\rho_s g(h-d)\\pi R^2 + \\rho_p g \\pi R^2d = 0 $$\n",
    "    qui donne le même résultat."
   ]
  },
  {
   "cell_type": "code",
   "execution_count": 15,
   "metadata": {},
   "outputs": [
    {
     "name": "stdout",
     "output_type": "stream",
     "text": [
      "h= 5.58cm\n"
     ]
    }
   ],
   "source": [
    "rhos = 1.03 # masse vol. eau salée en g/cm3\n",
    "rhop = 0.8  # masse vol. pétrole en g/cm3.\n",
    "d = 25      # hauteur nappe en cm\n",
    "h = d*(rhos-rhop)/rhos\n",
    "print('h= %.2fcm'%h)"
   ]
  },
  {
   "cell_type": "markdown",
   "metadata": {},
   "source": [
    "### b) Tension dans la barrière\n",
    "#### Expression de la différence de pression maximale :"
   ]
  },
  {
   "cell_type": "markdown",
   "metadata": {},
   "source": [
    "* Analyse des pressions s'exerçant sur l'eau et le pétrole :\n",
    "    * A l'inteface Air/Pétrole : $P_C$ (dans l'air) = $P_D$ (dans le pétrole) = $P_{atm}$\n",
    "    * A l'inteface Air/Eau : $P_A$ (dans l'air) = $P_B$ (dans l'eau) = $P_{atm}$\n",
    "    * A l'inteface Eau/Pétrole : $P_E$ (dans le pétrole) = $P_F$ (dans l'eau), pression à déterminer."
   ]
  },
  {
   "cell_type": "markdown",
   "metadata": {},
   "source": [
    "![](NP_pression.png)"
   ]
  },
  {
   "cell_type": "markdown",
   "metadata": {},
   "source": [
    "* On peut tracer l'évolution des pressions en fonction de la profondeur avec un raisonnement qualitatif :\n",
    "    * Au niveau de l'interface Air/Pétrole on sait que  $P_C$ = $P_D$ = $P_{atm}$, donc à ce niveau la pression dans le pétrole est connue et cette pression va augmenter lorsqu'on \"descend\" dans la nappe (courbe marron sur le graphique).\n",
    "    * Coté \"extérieur\" de la barrière:\n",
    "        * Dans l'air la pression de l'air est égal à $P_{atm}$, elle est considérée constante (courbe orange).\n",
    "        * Dans l'eau, à l'interface \"Air/Eau\" la pression est égal à $P_A$ = $P_B$ = $P_{atm}$, donc à ce niveau la pression dans l'eau est connue et cette pression va augmenter lorsqu'on \"descend\" dans l'eau. Lorsqu'on atteind la profondeur de la barrière on sait que la pression dans l'eau est égale à celle dans la pétrole puisque $P_E$ (dans le pétrole) = $P_F$ (dans l'eau). On peut donc tracer la courbe rouge montrant l'évolution de la pression dans l'eau.\n",
    "    * On en déduit alors facilement la différence de pression entre l'extérieur, (dans l'air puis dans l'eau) et l'intérieur (dans le pétrole), (courbe verte)."
   ]
  },
  {
   "cell_type": "markdown",
   "metadata": {},
   "source": [
    "![](NP_profil_pression.png)"
   ]
  },
  {
   "cell_type": "markdown",
   "metadata": {},
   "source": [
    "* En utilisant la loi de l'hydrostatique : $p(z) + \\rho g z = Cte$, avec la convention $\\vec{g}=-g\\vec{z}$. On choisira l'origine de l'axe $\\vec{z}$ au niveau de la surface libre de l'eau. On obtient les expressions :\n",
    "    * Dans le pétrole entre un point à la surface ($z=h$) et un point à la profondeur $z\\in[h,-(d-h)]$, \n",
    "    \n",
    "    $$ P_{atm} + \\rho_p g h = p_{pétrole}(z) + \\rho_p g z$$\n",
    "    \n",
    "    $$ p_{pétrole}(z) =  P_{atm} +  \\rho_p g (h-z)$$\n",
    "    \n",
    "    * Dans l'eau entre un point à la surface de l'eau ($z=0$) et un point à la profondeur $z\\in[-\\infty,0]$.\n",
    "    \n",
    "    $$ P_{atm} = p_{eau}(z) + \\rho_s g z$$\n",
    "     \n",
    "    $$ p_{eau}(z) =  P_{atm} -  \\rho_s gz\\quad\\text{ et }z<0 !!$$\n",
    "    \n",
    "    * Donc avec : \n",
    "        * $z\\in[0,h]$ au dessus de l'eau , $\\Delta P(z)= p_{pétrole}(z) - P_{atm} =  \\rho_p g (z-h)$ et $\\Delta P(z)$ varie de $0$ pour $z=h$ à $\\rho_p g h$ pour $z=0$.\n",
    "        * $z\\in [-(d-h),0]$ dans l'eau , $\\Delta P(z)= p_{pétrole}(z) -p_{eau}(z) =  \\rho_p g (z-h) + \\rho_s g z$ et $\\Delta P(z)$ varie de $0$ pour $z=-(d-h)=h-d$ car $P_E= P_{atm} + \\rho_p g d = P_F = P_{atm} -  \\rho_s g(h-d)$ à $\\rho_p g h$ pour $z=0$.\n",
    "        \n",
    "    * La différence de pression maximale s'obtient pour $z=0$ et vaut :\n",
    "    \n",
    "    $${\\Delta P_{max}=\\rho_p g h}$$"
   ]
  },
  {
   "cell_type": "markdown",
   "metadata": {},
   "source": [
    "#### Expression de la force de tension maximale dans la barrière :"
   ]
  },
  {
   "cell_type": "markdown",
   "metadata": {},
   "source": [
    "Pour déterminer la force de tension dans la barrière, il faut écrire un équilibre.\n",
    "\n",
    "Les forces de tension dans la barrière sont dues à la différence de pression entre l'intérieur et l'extérieur de la barrière. Mais comme la résultante de cette différence des forces de pression sur la barrière complète est nulle, pour faire apparaitre la force de tension dans le bilan des forces d'un équilibre, il faut :\n",
    "* soit isoler une moitié de barrière (comme la  méthode de la coupure en théorie des poutres)\n",
    "* soit isoler un élément de barrière, i.e un élément surface cylindrique.\n",
    "\n",
    "Les deux démarches conduisent au même résultat !!.\n",
    "\n",
    "\n",
    "* En isole l'élément de surface cylindrique :\n",
    "![](NP_ds_barriere.png)\n",
    "\n",
    "$$ -\\vec{T}(\\theta + \\mathrm{d}\\theta)\\mathrm{d}z + \\vec{T}(\\theta)\\mathrm{d}z + \\Delta P(z)R\\mathrm{d}\\theta\\mathrm{d}z\\vec{n} = \\vec{0}$$</br>\n",
    "soit en projection sur $\\vec{t}$ et $\\vec{n}$ :\n",
    "$$\\left\\lbrace\n",
    "\\begin{array}{rl}\n",
    "- T(\\theta + \\mathrm{d}\\theta)\\sin(\\mathrm{d}\\theta/2) - T(\\theta)\\sin(\\mathrm{d}\\theta/2) + \\Delta P(z)R\\mathrm{d}\\theta\\mathrm{d}z &= 0\\\\\n",
    "+ T(\\theta + \\mathrm{d}\\theta)\\cos(\\mathrm{d}\\theta/2) - T(\\theta)\\cos(\\mathrm{d}\\theta/2) &= 0\n",
    "\\end{array}\n",
    "\\right.\n",
    "$$</br>\n",
    "D'où l'on tire que, en remarquant que $\\sin(\\mathrm{d}\\theta/2)\\simeq\\mathrm{d}\\theta/2$ :\n",
    "$$\\left\\lbrace\n",
    "\\begin{array}{rl}\n",
    "T(\\theta + \\mathrm{d}\\theta) = T(\\theta)\\\\\n",
    "2\\Delta P(z)R - 2T(\\theta) &= 0\n",
    "\\end{array}\n",
    "\\right.\n",
    "$$</br>\n",
    "Donc la tension $T(\\theta)$ est bien une force par unité de longueur $[Pa]\\times[m]\\to[N]/[m]$ et elle est indépendante de $\\theta$ mais dépend de $z$ puisque :\n",
    "\n",
    "$$T(\\theta) = \\Delta P(z)R = T(z)$$</br>\n",
    "La tension est maximale en fonction de $z$ lorsque $\\Delta P(z)$ est maximale, soit $\\Delta P_{max}=\\rho_p g h$ pour $z=0$ et :\n",
    "\n",
    "$$T_{max} = \\rho_p g h R$$"
   ]
  },
  {
   "cell_type": "markdown",
   "metadata": {},
   "source": [
    "* On isole une portion de 1/2 barrière de hauteur infinitésimale $\\mathrm{d}z$ car la tension dépend de la différence de pression qui dépend de $z$.\n",
    "![](NP_tension_barriere.png)\n",
    "\n",
    "    * Dans le repère de la figure en projection sur l'axe $\\vec{Y}$ l'équilibre s'écrit :\n",
    "    $$ -2T\\mathrm{d}z + \\underbrace{\\Delta P(z)2R\\mathrm{d}z}_{\\text{Rés. des forces de pression sur la surface \"projetée\" sur $\\vec{X}$ de la barrière}} = 0$$\n",
    "    * Et on obtient :\n",
    "    $$T = \\Delta P(z)R$$"
   ]
  },
  {
   "cell_type": "code",
   "execution_count": 16,
   "metadata": {},
   "outputs": [
    {
     "name": "stdout",
     "output_type": "stream",
     "text": [
      "Tmax = 21906 N/m\n"
     ]
    }
   ],
   "source": [
    "g = 9.81 # g en [m/s2]\n",
    "R = 50   # R en [m]\n",
    "T_max = (rhop*1e3)*g*(h*1e-2)*R  # Attention aux unités, ici rhop en g/cm3 et h en cm !!\n",
    "print('Tmax = %.0f N/m'%T_max)"
   ]
  },
  {
   "cell_type": "markdown",
   "metadata": {},
   "source": []
  }
 ],
 "metadata": {
  "kernelspec": {
   "display_name": "Python 3",
   "language": "python",
   "name": "python3"
  },
  "language_info": {
   "codemirror_mode": {
    "name": "ipython",
    "version": 3
   },
   "file_extension": ".py",
   "mimetype": "text/x-python",
   "name": "python",
   "nbconvert_exporter": "python",
   "pygments_lexer": "ipython3",
   "version": "3.7.7"
  }
 },
 "nbformat": 4,
 "nbformat_minor": 4
}
